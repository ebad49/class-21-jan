{
 "cells": [
  {
   "cell_type": "code",
   "execution_count": 5,
   "metadata": {},
   "outputs": [
    {
     "data": {
      "text/plain": [
       "'Ebad'"
      ]
     },
     "execution_count": 5,
     "metadata": {},
     "output_type": "execute_result"
    }
   ],
   "source": [
    "friends = [\"Ebad\", \"Ahad\", \"Salman\", \"Awais\"]\n",
    "friends[0]\n",
    "\n",
    "\n"
   ]
  },
  {
   "cell_type": "code",
   "execution_count": 2,
   "metadata": {},
   "outputs": [
    {
     "data": {
      "text/plain": [
       "'Ahad'"
      ]
     },
     "execution_count": 2,
     "metadata": {},
     "output_type": "execute_result"
    }
   ],
   "source": [
    "friends[1]"
   ]
  },
  {
   "cell_type": "code",
   "execution_count": 3,
   "metadata": {},
   "outputs": [
    {
     "data": {
      "text/plain": [
       "'Salman'"
      ]
     },
     "execution_count": 3,
     "metadata": {},
     "output_type": "execute_result"
    }
   ],
   "source": [
    "friends[2]"
   ]
  },
  {
   "cell_type": "code",
   "execution_count": 4,
   "metadata": {},
   "outputs": [
    {
     "data": {
      "text/plain": [
       "'Awais'"
      ]
     },
     "execution_count": 4,
     "metadata": {},
     "output_type": "execute_result"
    }
   ],
   "source": [
    "friends[3]"
   ]
  },
  {
   "cell_type": "code",
   "execution_count": 9,
   "metadata": {},
   "outputs": [
    {
     "name": "stdout",
     "output_type": "stream",
     "text": [
      "Hello Ebad\n",
      "Hello Ahad\n",
      "Hello Salman\n",
      "Hello Awais\n"
     ]
    }
   ],
   "source": [
    "for names in friends:\n",
    "    print(\"Hello \"+ names)"
   ]
  },
  {
   "cell_type": "code",
   "execution_count": 10,
   "metadata": {},
   "outputs": [
    {
     "name": "stdout",
     "output_type": "stream",
     "text": [
      "Ebad\n",
      "Ahad\n",
      "Salman\n",
      "Awais\n"
     ]
    }
   ],
   "source": [
    "for names in friends:\n",
    "    print(names)"
   ]
  },
  {
   "cell_type": "code",
   "execution_count": 13,
   "metadata": {},
   "outputs": [
    {
     "name": "stdout",
     "output_type": "stream",
     "text": [
      "I would like to own Car\n",
      "I would like to own Aeroplan\n",
      "I would like to own Byk\n"
     ]
    }
   ],
   "source": [
    "faviorit_transport = [\"Car\", \"Aeroplan\", \"Byk\"]\n",
    "for transport in faviorit_transport:\n",
    "    print(\"I would like to own \" + transport)"
   ]
  },
  {
   "cell_type": "code",
   "execution_count": 17,
   "metadata": {},
   "outputs": [],
   "source": [
    "def make_album(artist_name,album_title):\n",
    "    music_album = {\"artist_name\": artist_name, \"album_title\": album_title}\n",
    "    return music_album"
   ]
  },
  {
   "cell_type": "code",
   "execution_count": 18,
   "metadata": {},
   "outputs": [],
   "source": [
    "album1 = make_album (\"Mr.A\", \"title\")\n",
    "album2 = make_album (\"Mr.b\", \"title\")\n",
    "album3 = make_album (\"Mr.c\", \"title\")"
   ]
  },
  {
   "cell_type": "code",
   "execution_count": 20,
   "metadata": {},
   "outputs": [
    {
     "name": "stdout",
     "output_type": "stream",
     "text": [
      "{'artist_name': 'Mr.A', 'album_title': 'title'} {'artist_name': 'Mr.b', 'album_title': 'title'} {'artist_name': 'Mr.c', 'album_title': 'title'}\n"
     ]
    }
   ],
   "source": [
    "print(album1,album2,album3)"
   ]
  },
  {
   "cell_type": "code",
   "execution_count": 30,
   "metadata": {},
   "outputs": [],
   "source": [
    "def make_album1(artist_name,album_title, tracks=\"\"):\n",
    "    music_album = {\"artist_name\": artist_name, \"album_title\": album_title, \"tracks\": tracks}\n",
    "    if tracks:\n",
    "        music_album[tracks] = tracks\n",
    "    return music_album"
   ]
  },
  {
   "cell_type": "code",
   "execution_count": 31,
   "metadata": {},
   "outputs": [
    {
     "name": "stdout",
     "output_type": "stream",
     "text": [
      "{'artist_name': 'Mr.A', 'album_title': 'title', 'tracks': 10, 10: 10} {'artist_name': 'Mr.b', 'album_title': 'title', 'tracks': 12, 12: 12} {'artist_name': 'Mr.c', 'album_title': 'title', 'tracks': ''}\n"
     ]
    }
   ],
   "source": [
    "album1 = make_album1 (\"Mr.A\", \"title\",10)\n",
    "album2 = make_album1 (\"Mr.b\", \"title\",12)\n",
    "album3 = make_album1 (\"Mr.c\", \"title\")\n",
    "print(album1, album2, album3)"
   ]
  },
  {
   "cell_type": "code",
   "execution_count": 37,
   "metadata": {},
   "outputs": [
    {
     "name": "stdout",
     "output_type": "stream",
     "text": [
      "what is the titlexyz\n",
      "what is the artist nameabc\n",
      "how many tracks34\n",
      "what is the titlequit\n"
     ]
    },
    {
     "ename": "TypeError",
     "evalue": "album() missing 2 required positional arguments: 'artist_name' and 'album_title'",
     "output_type": "error",
     "traceback": [
      "\u001b[1;31m---------------------------------------------------------------------------\u001b[0m",
      "\u001b[1;31mTypeError\u001b[0m                                 Traceback (most recent call last)",
      "\u001b[1;32m<ipython-input-37-272cc9cf7cfc>\u001b[0m in \u001b[0;36m<module>\u001b[1;34m\u001b[0m\n\u001b[0;32m     14\u001b[0m     \u001b[1;32mif\u001b[0m \u001b[0mtracks\u001b[0m \u001b[1;33m==\u001b[0m \u001b[1;34m\"quit\"\u001b[0m\u001b[1;33m:\u001b[0m\u001b[1;33m\u001b[0m\u001b[1;33m\u001b[0m\u001b[0m\n\u001b[0;32m     15\u001b[0m         \u001b[1;32mbreak\u001b[0m\u001b[1;33m\u001b[0m\u001b[1;33m\u001b[0m\u001b[0m\n\u001b[1;32m---> 16\u001b[1;33m \u001b[0malbum\u001b[0m\u001b[1;33m(\u001b[0m\u001b[1;33m)\u001b[0m\u001b[1;33m\u001b[0m\u001b[1;33m\u001b[0m\u001b[0m\n\u001b[0m",
      "\u001b[1;31mTypeError\u001b[0m: album() missing 2 required positional arguments: 'artist_name' and 'album_title'"
     ]
    }
   ],
   "source": [
    "def album(artist_name,album_title, tracks=\"\"):\n",
    "    music_album = {\"artist_name\": artist_name, \"album_title\": album_title, \"tracks\": tracks}\n",
    "    if tracks:\n",
    "        music_album[tracks] = tracks\n",
    "    return music_album\n",
    "album_lists = []\n",
    "while True:\n",
    "    title = input (\"what is the title\").lower()\n",
    "    if title == \"quit\":\n",
    "        break\n",
    "    artist = input (\"what is the artist name\").lower()\n",
    "    if artist == \"quit\":\n",
    "        break\n",
    "    tracks = input (\"how many tracks\").lower()\n",
    "    if tracks == \"quit\":\n",
    "        break"
   ]
  },
  {
   "cell_type": "code",
   "execution_count": 53,
   "metadata": {},
   "outputs": [],
   "source": [
    "def tax (basic_salary):\n",
    "    tax_ded =0\n",
    "    if basic_salary<30000:\n",
    "        tax_ded =0\n",
    "    elif basic_salary>=30000 and basic_salary<50000:\n",
    "        tax_ded = 5\n",
    "    elif basic_salary >=50000 and basic_salary <100000:\n",
    "        tax_ded = 10\n",
    "    else:\n",
    "        tax_ded =15\n",
    "    tot_ded = basic_salary* tax_ded/100\n",
    "    return tot_ded"
   ]
  },
  {
   "cell_type": "code",
   "execution_count": 54,
   "metadata": {},
   "outputs": [],
   "source": [
    "def salaryCalc (basic_salary):\n",
    "    tot_ded = tax (basic_salary)\n",
    "    gross_salary = basic_salary - tot_ded\n",
    "    return gross_salary"
   ]
  },
  {
   "cell_type": "code",
   "execution_count": 55,
   "metadata": {},
   "outputs": [
    {
     "name": "stdout",
     "output_type": "stream",
     "text": [
      "Enter the basic salary of employee40000\n",
      "The gross salary of the employee is 38000.0\n"
     ]
    }
   ],
   "source": [
    "basic_salary = int(input(\"Enter the basic salary of employee\"))\n",
    "gross_salary = salaryCalc(basic_salary)\n",
    "print(f\"The gross salary of the employee is {gross_salary}\")"
   ]
  },
  {
   "cell_type": "code",
   "execution_count": null,
   "metadata": {},
   "outputs": [],
   "source": []
  },
  {
   "cell_type": "code",
   "execution_count": 47,
   "metadata": {},
   "outputs": [
    {
     "data": {
      "text/plain": [
       "75000.0"
      ]
     },
     "execution_count": 47,
     "metadata": {},
     "output_type": "execute_result"
    }
   ],
   "source": []
  },
  {
   "cell_type": "code",
   "execution_count": null,
   "metadata": {},
   "outputs": [],
   "source": []
  }
 ],
 "metadata": {
  "kernelspec": {
   "display_name": "Python 3",
   "language": "python",
   "name": "python3"
  },
  "language_info": {
   "codemirror_mode": {
    "name": "ipython",
    "version": 3
   },
   "file_extension": ".py",
   "mimetype": "text/x-python",
   "name": "python",
   "nbconvert_exporter": "python",
   "pygments_lexer": "ipython3",
   "version": "3.8.5"
  }
 },
 "nbformat": 4,
 "nbformat_minor": 4
}
